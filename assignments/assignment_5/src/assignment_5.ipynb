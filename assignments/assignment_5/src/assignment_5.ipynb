{
 "cells": [
  {
   "cell_type": "markdown",
   "metadata": {},
   "source": []
  },
  {
   "cell_type": "code",
   "execution_count": 3,
   "metadata": {},
   "outputs": [],
   "source": [
    "# data tools\n",
    "import os\n",
    "import sys\n",
    "sys.path.append(os.path.join(\"..\"))\n",
    "import numpy as np\n",
    "import matplotlib.pyplot as plt\n",
    "import cv2\n",
    "from pathlib import Path\n",
    "import pandas as pd\n",
    "import re\n",
    "#Import shutil and random\n",
    "import os, sys\n",
    "import shutil\n",
    "import random\n",
    "from shutil import copyfile\n",
    "\n",
    "# sklearn tools\n",
    "from sklearn.preprocessing import LabelBinarizer\n",
    "from sklearn.metrics import classification_report\n",
    "\n",
    "# tf tools\n",
    "from tensorflow.keras.datasets import cifar10\n",
    "from tensorflow.keras.models import Sequential\n",
    "from tensorflow.keras.layers import (Conv2D, \n",
    "                                     MaxPooling2D, \n",
    "                                     Activation, \n",
    "                                     Flatten, \n",
    "                                     Dense)\n",
    "from tensorflow.keras.utils import plot_model\n",
    "from tensorflow.keras.optimizers import SGD\n",
    "from tensorflow.keras import backend as K"
   ]
  },
  {
   "cell_type": "code",
   "execution_count": 17,
   "metadata": {},
   "outputs": [],
   "source": [
    "#data_path = os.path.join(\"..\",\"data\",\"training\")\n",
    "#outpath = os.path.join(\"..\", \"data\", \"training\", \"small_training\")"
   ]
  },
  {
   "cell_type": "code",
   "execution_count": 3,
   "metadata": {},
   "outputs": [],
   "source": [
    "# We want to sample the data with 40 test images and 10 validation images for each artist"
   ]
  },
  {
   "cell_type": "code",
   "execution_count": 85,
   "metadata": {},
   "outputs": [],
   "source": [
    "''' Making the datasets ''''''\n",
    "#First we make the training dataset\n",
    "\n",
    "#folder which contains the sub directories we want to copy\n",
    "source_dir = '../data/training/training/'\n",
    "#list sub directories \n",
    "for root, dirs, files in os.walk(source_dir):\n",
    "\n",
    "#iterate through them\n",
    "    for i in dirs: \n",
    "\n",
    "        #create a new folder with the name of the iterated sub dir (small_training)\n",
    "        path = '../data/training/small_training/' + \"%s/\" % i\n",
    "        os.makedirs(path)\n",
    "\n",
    "        #take random sample, here 40 files per sub dir\n",
    "        filenames = random.sample(os.listdir('../data/training/training/' + \"%s/\" % i ), 40)\n",
    "\n",
    "        #copy the files to the new destination\n",
    "        for j in filenames:\n",
    "            shutil.copy2('../data/training/training/' + \"%s/\" % i  + j, path)\n",
    "\n",
    "'''\n",
    "       "
   ]
  },
  {
   "cell_type": "code",
   "execution_count": 87,
   "metadata": {},
   "outputs": [],
   "source": [
    "#Next we do the small validation dataset of 10 images pr. painter"
   ]
  },
  {
   "cell_type": "code",
   "execution_count": 88,
   "metadata": {},
   "outputs": [],
   "source": [
    "''' Validation set\n",
    "#folder which contains the sub directories we want to copy\n",
    "val_source_dir = '../data/validation/validation/'\n",
    "#list sub directories \n",
    "for root, dirs, files in os.walk(val_source_dir):\n",
    "\n",
    "#iterate through them\n",
    "    for i in dirs: \n",
    "\n",
    "        #create a new folder with the name of the iterated sub dir (small_training)\n",
    "        path = '../data/validation/small_validation/' + \"%s/\" % i\n",
    "        os.makedirs(path)\n",
    "\n",
    "        #take random sample, here 10 files per sub dir\n",
    "        filenames = random.sample(os.listdir('../data/validation/validation/' + \"%s/\" % i ), 10)\n",
    "\n",
    "        #copy the files to the new destination\n",
    "        for j in filenames:\n",
    "            shutil.copy2('../data/validation/validation/' + \"%s/\" % i  + j, path)\n",
    "\n",
    "'''"
   ]
  },
  {
   "cell_type": "code",
   "execution_count": 4,
   "metadata": {},
   "outputs": [],
   "source": [
    "#Path to training folder with painters\n",
    "training_dir = os.path.join(\"..\", \"data\", \"training\", \"small_training\")\n",
    "\n",
    "#Names as a string\n",
    "label_names = []\n",
    "#Training labels\n",
    "trainY = []\n",
    "\n",
    "#For the labels we find the painters \n",
    "i = 0\n",
    "for folder in Path(training_dir).glob(\"*\"):\n",
    "    #find the painters name with regex\n",
    "    painter = re.findall(r\"(?!.*/).+\", str(folder)) #re.findall returns a list \n",
    "    #append the list with painters\n",
    "    label_names.append(painter[0])\n",
    "    \n",
    "    \n",
    "    for img in folder.glob(\"*\"):\n",
    "        trainY.append(i)\n",
    "        \n",
    "    i +=1"
   ]
  },
  {
   "cell_type": "code",
   "execution_count": 5,
   "metadata": {},
   "outputs": [],
   "source": [
    "#Labels for validation\n",
    "#Path to training folder with painters\n",
    "validation_dir = os.path.join(\"..\", \"data\", \"validation\", \"small_validation\")\n",
    "\n",
    "#test labels\n",
    "testY = []\n",
    "\n",
    "\n",
    "i = 0\n",
    "for folder in Path(validation_dir).glob(\"*\"):\n",
    "    for img in folder.glob(\"*\"):\n",
    "        testY.append(i)\n",
    "    i +=1"
   ]
  },
  {
   "cell_type": "code",
   "execution_count": 6,
   "metadata": {},
   "outputs": [],
   "source": [
    "# integers to one-hot vectors\n",
    "lb = LabelBinarizer()\n",
    "# transform labels to binary codes \n",
    "trainY = lb.fit_transform(trainY)\n",
    "testY = lb.fit_transform(testY)"
   ]
  },
  {
   "cell_type": "code",
   "execution_count": 54,
   "metadata": {},
   "outputs": [
    {
     "data": {
      "text/plain": [
       "'Sargent'"
      ]
     },
     "execution_count": 54,
     "metadata": {},
     "output_type": "execute_result"
    }
   ],
   "source": [
    "label_names[5]"
   ]
  },
  {
   "cell_type": "code",
   "execution_count": 55,
   "metadata": {},
   "outputs": [
    {
     "data": {
      "text/plain": [
       "array([0, 0, 0, 0, 0, 0, 0, 0, 0, 1])"
      ]
     },
     "execution_count": 55,
     "metadata": {},
     "output_type": "execute_result"
    }
   ],
   "source": [
    "trainY[395]"
   ]
  },
  {
   "cell_type": "code",
   "execution_count": 7,
   "metadata": {},
   "outputs": [],
   "source": [
    "# Change size of images in small_training\n",
    "# The path were the images are located\n",
    "filepath = os.path.join(\"..\",\"data\", \"training\", \"small_training\")\n",
    "\n",
    "#create the list\n",
    "trainX=[]\n",
    "\n",
    "#loop through all the folders\n",
    "for folder in Path(filepath).glob(\"*\"):\n",
    "    #loop through all the files\n",
    "    for file in Path(folder).glob(\"*\"):\n",
    "        #read images\n",
    "        image_open = cv2.imread(str(file))\n",
    "        #save dimensions\n",
    "        dim = (120, 120)\n",
    "        #resize images\n",
    "        resize_image = cv2.resize(image_open, dim, interpolation = cv2.INTER_AREA)\n",
    "        #append images to trainX\n",
    "        trainX.append(resize_image.astype(\"float\") / 255.)\n"
   ]
  },
  {
   "cell_type": "code",
   "execution_count": 8,
   "metadata": {},
   "outputs": [],
   "source": [
    "# Change size of images in validation_training\n",
    "# The path were the images are located\n",
    "filepath = os.path.join(\"..\",\"data\", \"validation\", \"small_validation\")\n",
    "\n",
    "testX=[]\n",
    "# Same as before but with the validation images\n",
    "for folder in Path(filepath).glob(\"*\"):\n",
    "    for file in Path(folder).glob(\"*\"):\n",
    "        image_open = cv2.imread(str(file))\n",
    "        dim = (120, 120)\n",
    "        resize_image = cv2.resize(image_open, dim, interpolation = cv2.INTER_AREA)\n",
    "        testX.append(resize_image.astype(\"float\") / 255.)"
   ]
  },
  {
   "cell_type": "code",
   "execution_count": 9,
   "metadata": {},
   "outputs": [
    {
     "name": "stdout",
     "output_type": "stream",
     "text": [
      "400 400 100 100\n"
     ]
    }
   ],
   "source": [
    "print(len(trainX),\n",
    "      len(trainY), \n",
    "      len(testX),\n",
    "      len(testY))"
   ]
  },
  {
   "cell_type": "code",
   "execution_count": 10,
   "metadata": {},
   "outputs": [],
   "source": [
    "#Convert to numpy\n",
    "testX = np.array(testX)\n",
    "trainX = np.array(trainX)"
   ]
  },
  {
   "cell_type": "markdown",
   "metadata": {},
   "source": [
    "## Plot history model"
   ]
  },
  {
   "cell_type": "code",
   "execution_count": 11,
   "metadata": {},
   "outputs": [],
   "source": [
    "def plot_history(H, epochs):\n",
    "    # visualize performance\n",
    "    plt.style.use(\"fivethirtyeight\")\n",
    "    fig = plt.figure()\n",
    "    plt.plot(np.arange(0, epochs), H.history[\"loss\"], label=\"train_loss\")\n",
    "    plt.plot(np.arange(0, epochs), H.history[\"val_loss\"], label=\"val_loss\")\n",
    "    plt.plot(np.arange(0, epochs), H.history[\"accuracy\"], label=\"train_acc\")\n",
    "    plt.plot(np.arange(0, epochs), H.history[\"val_accuracy\"], label=\"val_acc\")\n",
    "    plt.title(\"Training Loss and Accuracy\")\n",
    "    plt.xlabel(\"Epoch #\")\n",
    "    plt.ylabel(\"Loss/Accuracy\")\n",
    "    plt.legend()\n",
    "    plt.tight_layout()\n",
    "    plt.show()\n",
    "    fig.savefig(\"../output/performance.png\")"
   ]
  },
  {
   "cell_type": "markdown",
   "metadata": {},
   "source": [
    "## LeNet model"
   ]
  },
  {
   "cell_type": "code",
   "execution_count": 12,
   "metadata": {},
   "outputs": [],
   "source": [
    "\n",
    "# define model\n",
    "model = Sequential()\n",
    "\n",
    "# first set of CONV => RELU => POOL\n",
    "model.add(Conv2D(32, (3, 3), \n",
    "                 padding=\"same\", \n",
    "                 input_shape=(120, 120, 3)))\n",
    "model.add(Activation(\"relu\"))\n",
    "model.add(MaxPooling2D(pool_size=(2, 2), \n",
    "                       strides=(2, 2)))\n",
    "\n",
    "# second set of CONV => RELU => POOL\n",
    "model.add(Conv2D(50, (5, 5), \n",
    "                 padding=\"same\"))\n",
    "model.add(Activation(\"relu\"))\n",
    "model.add(MaxPooling2D(pool_size=(2, 2), \n",
    "                       strides=(2, 2)))\n",
    "\n",
    "# FC => RELU\n",
    "model.add(Flatten())\n",
    "model.add(Dense(500))\n",
    "model.add(Activation(\"relu\"))\n",
    "\n",
    "# softmax classifier\n",
    "model.add(Dense(10))\n",
    "model.add(Activation(\"softmax\"))"
   ]
  },
  {
   "cell_type": "code",
   "execution_count": 62,
   "metadata": {},
   "outputs": [],
   "source": [
    "#Compile model"
   ]
  },
  {
   "cell_type": "code",
   "execution_count": 13,
   "metadata": {},
   "outputs": [],
   "source": [
    "opt = SGD(lr=0.01)\n",
    "model.compile(loss=\"categorical_crossentropy\",\n",
    "              optimizer=opt,\n",
    "              metrics=[\"accuracy\"])"
   ]
  },
  {
   "cell_type": "code",
   "execution_count": 14,
   "metadata": {},
   "outputs": [
    {
     "name": "stdout",
     "output_type": "stream",
     "text": [
      "Model: \"sequential\"\n",
      "_________________________________________________________________\n",
      "Layer (type)                 Output Shape              Param #   \n",
      "=================================================================\n",
      "conv2d (Conv2D)              (None, 120, 120, 32)      896       \n",
      "_________________________________________________________________\n",
      "activation (Activation)      (None, 120, 120, 32)      0         \n",
      "_________________________________________________________________\n",
      "max_pooling2d (MaxPooling2D) (None, 60, 60, 32)        0         \n",
      "_________________________________________________________________\n",
      "conv2d_1 (Conv2D)            (None, 60, 60, 50)        40050     \n",
      "_________________________________________________________________\n",
      "activation_1 (Activation)    (None, 60, 60, 50)        0         \n",
      "_________________________________________________________________\n",
      "max_pooling2d_1 (MaxPooling2 (None, 30, 30, 50)        0         \n",
      "_________________________________________________________________\n",
      "flatten (Flatten)            (None, 45000)             0         \n",
      "_________________________________________________________________\n",
      "dense (Dense)                (None, 500)               22500500  \n",
      "_________________________________________________________________\n",
      "activation_2 (Activation)    (None, 500)               0         \n",
      "_________________________________________________________________\n",
      "dense_1 (Dense)              (None, 10)                5010      \n",
      "_________________________________________________________________\n",
      "activation_3 (Activation)    (None, 10)                0         \n",
      "=================================================================\n",
      "Total params: 22,546,456\n",
      "Trainable params: 22,546,456\n",
      "Non-trainable params: 0\n",
      "_________________________________________________________________\n"
     ]
    }
   ],
   "source": [
    "model.summary()"
   ]
  },
  {
   "cell_type": "code",
   "execution_count": 17,
   "metadata": {},
   "outputs": [
    {
     "name": "stdout",
     "output_type": "stream",
     "text": [
      "('Failed to import pydot. You must `pip install pydot` and install graphviz (https://graphviz.gitlab.io/download/), ', 'for `pydotprint` to work.')\n"
     ]
    }
   ],
   "source": [
    "plot_model(model, to_file = \"../output/plot_model.png\", show_shapes=True, show_layer_names=True)"
   ]
  },
  {
   "cell_type": "code",
   "execution_count": 16,
   "metadata": {},
   "outputs": [
    {
     "name": "stdout",
     "output_type": "stream",
     "text": [
      "Epoch 1/20\n",
      "13/13 [==============================] - 12s 808ms/step - loss: 2.3644 - accuracy: 0.0744 - val_loss: 2.2968 - val_accuracy: 0.1200\n",
      "Epoch 2/20\n",
      "13/13 [==============================] - 9s 687ms/step - loss: 2.2897 - accuracy: 0.1525 - val_loss: 2.2850 - val_accuracy: 0.1000\n",
      "Epoch 3/20\n",
      "13/13 [==============================] - 9s 725ms/step - loss: 2.2391 - accuracy: 0.1321 - val_loss: 2.2700 - val_accuracy: 0.1500\n",
      "Epoch 4/20\n",
      "13/13 [==============================] - 9s 712ms/step - loss: 2.2252 - accuracy: 0.2016 - val_loss: 2.2387 - val_accuracy: 0.1100\n",
      "Epoch 5/20\n",
      "13/13 [==============================] - 9s 659ms/step - loss: 2.1790 - accuracy: 0.2210 - val_loss: 2.2495 - val_accuracy: 0.1500\n",
      "Epoch 6/20\n",
      "13/13 [==============================] - 9s 697ms/step - loss: 2.1409 - accuracy: 0.2212 - val_loss: 2.2215 - val_accuracy: 0.1400\n",
      "Epoch 7/20\n",
      "13/13 [==============================] - 9s 659ms/step - loss: 2.0904 - accuracy: 0.2188 - val_loss: 2.2082 - val_accuracy: 0.1900\n",
      "Epoch 8/20\n",
      "13/13 [==============================] - 9s 700ms/step - loss: 2.0370 - accuracy: 0.2821 - val_loss: 2.2767 - val_accuracy: 0.1600\n",
      "Epoch 9/20\n",
      "13/13 [==============================] - 8s 645ms/step - loss: 2.0424 - accuracy: 0.2850 - val_loss: 2.1488 - val_accuracy: 0.1800\n",
      "Epoch 10/20\n",
      "13/13 [==============================] - 9s 706ms/step - loss: 1.9997 - accuracy: 0.2626 - val_loss: 2.0908 - val_accuracy: 0.2600\n",
      "Epoch 11/20\n",
      "13/13 [==============================] - 10s 763ms/step - loss: 1.8890 - accuracy: 0.3362 - val_loss: 2.1564 - val_accuracy: 0.2100\n",
      "Epoch 12/20\n",
      "13/13 [==============================] - 9s 716ms/step - loss: 1.9400 - accuracy: 0.3064 - val_loss: 2.1100 - val_accuracy: 0.2000\n",
      "Epoch 13/20\n",
      "13/13 [==============================] - 10s 772ms/step - loss: 1.8820 - accuracy: 0.3580 - val_loss: 2.1953 - val_accuracy: 0.1600\n",
      "Epoch 14/20\n",
      "13/13 [==============================] - 10s 792ms/step - loss: 1.8426 - accuracy: 0.3576 - val_loss: 2.2949 - val_accuracy: 0.2300\n",
      "Epoch 15/20\n",
      "13/13 [==============================] - 9s 686ms/step - loss: 1.8553 - accuracy: 0.3666 - val_loss: 2.0819 - val_accuracy: 0.2000\n",
      "Epoch 16/20\n",
      "13/13 [==============================] - 9s 695ms/step - loss: 1.7210 - accuracy: 0.4356 - val_loss: 2.1854 - val_accuracy: 0.2400\n",
      "Epoch 17/20\n",
      "13/13 [==============================] - 9s 715ms/step - loss: 1.7080 - accuracy: 0.4028 - val_loss: 2.1973 - val_accuracy: 0.2200\n",
      "Epoch 18/20\n",
      "13/13 [==============================] - 9s 686ms/step - loss: 1.7740 - accuracy: 0.3799 - val_loss: 2.1786 - val_accuracy: 0.2200\n",
      "Epoch 19/20\n",
      "13/13 [==============================] - 9s 726ms/step - loss: 1.6221 - accuracy: 0.4506 - val_loss: 2.0928 - val_accuracy: 0.2700\n",
      "Epoch 20/20\n",
      "13/13 [==============================] - 9s 731ms/step - loss: 1.5342 - accuracy: 0.5239 - val_loss: 2.5669 - val_accuracy: 0.1900\n"
     ]
    }
   ],
   "source": [
    "# train model\n",
    "H = model.fit(trainX, trainY, \n",
    "              validation_data=(testX, testY), \n",
    "              batch_size=32,\n",
    "              epochs=20,\n",
    "              verbose=1)"
   ]
  },
  {
   "cell_type": "code",
   "execution_count": 18,
   "metadata": {},
   "outputs": [
    {
     "data": {
      "image/png": "[encoded data removed]",
      "text/plain": [
       "<Figure size 432x288 with 1 Axes>"
      ]
     },
     "metadata": {},
     "output_type": "display_data"
    }
   ],
   "source": [
    "plot_history(H,20)\n"
   ]
  },
  {
   "cell_type": "code",
   "execution_count": 19,
   "metadata": {},
   "outputs": [
    {
     "name": "stdout",
     "output_type": "stream",
     "text": [
      "              precision    recall  f1-score   support\n",
      "\n",
      "      Renoir       0.00      0.00      0.00        10\n",
      "     Matisse       0.00      0.00      0.00        10\n",
      "    Pissarro       0.25      0.10      0.14        10\n",
      "      Hassam       0.14      0.80      0.24        10\n",
      "     VanGogh       0.00      0.00      0.00        10\n",
      "     Sargent       0.00      0.00      0.00        10\n",
      "       Degas       0.00      0.00      0.00        10\n",
      "       Monet       0.00      0.00      0.00        10\n",
      "     Gauguin       0.33      0.70      0.45        10\n",
      "     Cezanne       0.20      0.30      0.24        10\n",
      "\n",
      "    accuracy                           0.19       100\n",
      "   macro avg       0.09      0.19      0.11       100\n",
      "weighted avg       0.09      0.19      0.11       100\n",
      "\n"
     ]
    },
    {
     "name": "stderr",
     "output_type": "stream",
     "text": [
      "/home/cds-au606144/cds-visual/cv101/lib/python3.6/site-packages/sklearn/metrics/_classification.py:1248: UndefinedMetricWarning: Precision and F-score are ill-defined and being set to 0.0 in labels with no predicted samples. Use `zero_division` parameter to control this behavior.\n",
      "  _warn_prf(average, modifier, msg_start, len(result))\n",
      "/home/cds-au606144/cds-visual/cv101/lib/python3.6/site-packages/sklearn/metrics/_classification.py:1248: UndefinedMetricWarning: Precision and F-score are ill-defined and being set to 0.0 in labels with no predicted samples. Use `zero_division` parameter to control this behavior.\n",
      "  _warn_prf(average, modifier, msg_start, len(result))\n",
      "/home/cds-au606144/cds-visual/cv101/lib/python3.6/site-packages/sklearn/metrics/_classification.py:1248: UndefinedMetricWarning: Precision and F-score are ill-defined and being set to 0.0 in labels with no predicted samples. Use `zero_division` parameter to control this behavior.\n",
      "  _warn_prf(average, modifier, msg_start, len(result))\n"
     ]
    }
   ],
   "source": [
    "predictions = model.predict(testX, batch_size=32)\n",
    "print(classification_report(testY.argmax(axis=1),\n",
    "                            predictions.argmax(axis=1),\n",
    "                            target_names=label_names))"
   ]
  },
  {
   "cell_type": "code",
   "execution_count": null,
   "metadata": {},
   "outputs": [],
   "source": []
  }
 ],
 "metadata": {
  "kernelspec": {
   "display_name": "cv101",
   "language": "python",
   "name": "cv101"
  },
  "language_info": {
   "codemirror_mode": {
    "name": "ipython",
    "version": 3
   },
   "file_extension": ".py",
   "mimetype": "text/x-python",
   "name": "python",
   "nbconvert_exporter": "python",
   "pygments_lexer": "ipython3",
   "version": "3.6.9"
  }
 },
 "nbformat": 4,
 "nbformat_minor": 4
}
